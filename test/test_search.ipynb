{
 "cells": [
  {
   "cell_type": "code",
   "execution_count": null,
   "metadata": {},
   "outputs": [],
   "source": []
  },
  {
   "cell_type": "code",
   "execution_count": 2,
   "metadata": {},
   "outputs": [
    {
     "name": "stdout",
     "output_type": "stream",
     "text": [
      "Defaulting to user installation because normal site-packages is not writeable\n",
      "Requirement already satisfied: duckduckgo-search in c:\\users\\sachi\\appdata\\roaming\\python\\python312\\site-packages (7.4.3)\n",
      "Requirement already satisfied: click>=8.1.8 in c:\\users\\sachi\\appdata\\roaming\\python\\python312\\site-packages (from duckduckgo-search) (8.1.8)\n",
      "Requirement already satisfied: httpx[brotli,http2,socks]>=0.28.1 in c:\\users\\sachi\\appdata\\roaming\\python\\python312\\site-packages (from duckduckgo-search) (0.28.1)\n",
      "Requirement already satisfied: lxml>=5.3.0 in c:\\users\\sachi\\appdata\\roaming\\python\\python312\\site-packages (from duckduckgo-search) (5.3.1)\n",
      "Requirement already satisfied: colorama in c:\\users\\sachi\\appdata\\roaming\\python\\python312\\site-packages (from click>=8.1.8->duckduckgo-search) (0.4.6)\n",
      "Requirement already satisfied: anyio in c:\\users\\sachi\\appdata\\roaming\\python\\python312\\site-packages (from httpx[brotli,http2,socks]>=0.28.1->duckduckgo-search) (4.2.0)\n",
      "Requirement already satisfied: certifi in c:\\users\\sachi\\appdata\\roaming\\python\\python312\\site-packages (from httpx[brotli,http2,socks]>=0.28.1->duckduckgo-search) (2023.11.17)\n",
      "Requirement already satisfied: httpcore==1.* in c:\\users\\sachi\\appdata\\roaming\\python\\python312\\site-packages (from httpx[brotli,http2,socks]>=0.28.1->duckduckgo-search) (1.0.5)\n",
      "Requirement already satisfied: idna in c:\\users\\sachi\\appdata\\roaming\\python\\python312\\site-packages (from httpx[brotli,http2,socks]>=0.28.1->duckduckgo-search) (3.7)\n",
      "Requirement already satisfied: brotli in c:\\users\\sachi\\appdata\\roaming\\python\\python312\\site-packages (from httpx[brotli,http2,socks]>=0.28.1->duckduckgo-search) (1.1.0)\n",
      "Requirement already satisfied: h2<5,>=3 in c:\\users\\sachi\\appdata\\roaming\\python\\python312\\site-packages (from httpx[brotli,http2,socks]>=0.28.1->duckduckgo-search) (4.2.0)\n",
      "Requirement already satisfied: socksio==1.* in c:\\users\\sachi\\appdata\\roaming\\python\\python312\\site-packages (from httpx[brotli,http2,socks]>=0.28.1->duckduckgo-search) (1.0.0)\n",
      "Requirement already satisfied: h11<0.15,>=0.13 in c:\\users\\sachi\\appdata\\roaming\\python\\python312\\site-packages (from httpcore==1.*->httpx[brotli,http2,socks]>=0.28.1->duckduckgo-search) (0.14.0)\n",
      "Requirement already satisfied: hyperframe<7,>=6.1 in c:\\users\\sachi\\appdata\\roaming\\python\\python312\\site-packages (from h2<5,>=3->httpx[brotli,http2,socks]>=0.28.1->duckduckgo-search) (6.1.0)\n",
      "Requirement already satisfied: hpack<5,>=4.1 in c:\\users\\sachi\\appdata\\roaming\\python\\python312\\site-packages (from h2<5,>=3->httpx[brotli,http2,socks]>=0.28.1->duckduckgo-search) (4.1.0)\n",
      "Requirement already satisfied: sniffio>=1.1 in c:\\users\\sachi\\appdata\\roaming\\python\\python312\\site-packages (from anyio->httpx[brotli,http2,socks]>=0.28.1->duckduckgo-search) (1.3.0)\n"
     ]
    },
    {
     "name": "stderr",
     "output_type": "stream",
     "text": [
      "WARNING: There was an error checking the latest version of pip.\n"
     ]
    }
   ],
   "source": [
    "!pip install duckduckgo-search\n"
   ]
  },
  {
   "cell_type": "code",
   "execution_count": 3,
   "metadata": {},
   "outputs": [
    {
     "name": "stdout",
     "output_type": "stream",
     "text": [
      "Title: Inception - Wikipedia\n",
      "Link: https://en.wikipedia.org/wiki/Inception\n"
     ]
    }
   ],
   "source": [
    "from duckduckgo_search import DDGS\n",
    "\n",
    "def search_movie(movie_name):\n",
    "    with DDGS() as ddgs:\n",
    "        results = list(ddgs.text(movie_name + \" movie\", max_results=1))  # Get top result\n",
    "        if results:\n",
    "            first_result = results[0]\n",
    "            print(f\"Title: {first_result['title']}\")\n",
    "            print(f\"Link: {first_result['href']}\")\n",
    "        else:\n",
    "            print(\"No results found.\")\n",
    "\n",
    "# Example Usage\n",
    "search_movie(\"Inception\")\n"
   ]
  },
  {
   "cell_type": "code",
   "execution_count": 5,
   "metadata": {},
   "outputs": [
    {
     "name": "stdout",
     "output_type": "stream",
     "text": [
      "Title: Forrest Gump (1994) - IMDb\n",
      "Link: https://m.imdb.com/title/tt0109830/\n"
     ]
    }
   ],
   "source": [
    "search_movie(\"Forrest Gump (1994)\")"
   ]
  },
  {
   "cell_type": "code",
   "execution_count": 8,
   "metadata": {},
   "outputs": [
    {
     "name": "stdout",
     "output_type": "stream",
     "text": [
      "Search results for 'Inception':\n",
      "\n",
      "1. Title: Inception - Wikipedia\n",
      "   Link: https://en.wikipedia.org/wiki/Inception\n",
      "   Snippet: Inception is a 2010 science fiction action heist film written and directed by Christopher Nolan, who also produced it with Emma Thomas, his wife.The film stars Leonardo DiCaprio as a professional thief who steals information by infiltrating the subconscious of his targets. He is offered a chance to have his criminal history erased as payment for the implantation of another person's idea into a ...\n",
      "\n"
     ]
    }
   ],
   "source": [
    "from duckduckgo_search import DDGS\n",
    "\n",
    "def search_movie(movie_name):\n",
    "    with DDGS() as ddgs:\n",
    "        results = list(ddgs.text(movie_name + \" movie\", max_results=1))  # Get top 3 results\n",
    "        if results:\n",
    "            print(f\"Search results for '{movie_name}':\\n\")\n",
    "            for idx, result in enumerate(results, start=1):\n",
    "                print(f\"{idx}. Title: {result.get('title', 'N/A')}\")\n",
    "                print(f\"   Link: {result.get('href', 'N/A')}\")\n",
    "                print(f\"   Snippet: {result.get('body', 'No description available.')}\\n\")\n",
    "        else:\n",
    "            print(\"No results found.\")\n",
    "\n",
    "# Example Usage\n",
    "search_movie(\"Inception\")\n"
   ]
  },
  {
   "cell_type": "code",
   "execution_count": 9,
   "metadata": {},
   "outputs": [
    {
     "name": "stdout",
     "output_type": "stream",
     "text": [
      "Search results for 'Clerks (1994)':\n",
      "\n",
      "1. Title: Clerks (1994) - IMDb\n",
      "   Link: https://www.imdb.com/title/tt0109445/\n",
      "   Snippet: Clerks: Directed by Kevin Smith. With Brian O'Halloran, Jeff Anderson, Marilyn Ghigliotti, Lisa Spoonauer. A day in the lives of two convenience clerks named Dante and Randal as they annoy customers, discuss movies, and play hockey on the store roof.\n",
      "\n"
     ]
    }
   ],
   "source": [
    "search_movie(\"Clerks (1994)\")"
   ]
  },
  {
   "cell_type": "code",
   "execution_count": 11,
   "metadata": {},
   "outputs": [
    {
     "name": "stdout",
     "output_type": "stream",
     "text": [
      "Search results for 'Inception':\n",
      "\n",
      "1. Title: Inception - Wikipedia\n",
      "   Link: https://en.wikipedia.org/wiki/Inception\n",
      "   Snippet: Inception is a 2010 science fiction action heist film written and directed by Christopher Nolan, who also produced it with Emma Thomas, his wife.The film stars Leonardo DiCaprio as a...\n",
      "\n"
     ]
    }
   ],
   "source": [
    "from duckduckgo_search import DDGS\n",
    "\n",
    "def search_movie(movie_name):\n",
    "    with DDGS() as ddgs:\n",
    "        results = list(ddgs.text(movie_name + \" movie\", max_results=1))  # Get top 3 results\n",
    "        if results:\n",
    "            print(f\"Search results for '{movie_name}':\\n\")\n",
    "            for idx, result in enumerate(results, start=1):\n",
    "                title = result.get('title', 'N/A')\n",
    "                link = result.get('href', 'N/A')\n",
    "                snippet = result.get('body', 'No description available.')\n",
    "                \n",
    "                # Limit description to 50 words\n",
    "                snippet_words = snippet.split()[:30]\n",
    "                snippet_limited = ' '.join(snippet_words)\n",
    "                \n",
    "                print(f\"{idx}. Title: {title}\")\n",
    "                print(f\"   Link: {link}\")\n",
    "                print(f\"   Snippet: {snippet_limited}...\\n\")  # Add \"...\" to indicate truncation\n",
    "        else:\n",
    "            print(\"No results found.\")\n",
    "\n",
    "# Example Usage\n",
    "search_movie(\"Inception\")\n"
   ]
  },
  {
   "cell_type": "code",
   "execution_count": null,
   "metadata": {},
   "outputs": [],
   "source": []
  }
 ],
 "metadata": {
  "kernelspec": {
   "display_name": "Python 3",
   "language": "python",
   "name": "python3"
  },
  "language_info": {
   "codemirror_mode": {
    "name": "ipython",
    "version": 3
   },
   "file_extension": ".py",
   "mimetype": "text/x-python",
   "name": "python",
   "nbconvert_exporter": "python",
   "pygments_lexer": "ipython3",
   "version": "3.12.1"
  }
 },
 "nbformat": 4,
 "nbformat_minor": 2
}
